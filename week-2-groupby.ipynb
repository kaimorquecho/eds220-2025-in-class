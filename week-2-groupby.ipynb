{
 "cells": [
  {
   "cell_type": "markdown",
   "id": "36ee71fd-364a-48a7-b1e2-3f2fd507f784",
   "metadata": {
    "tags": []
   },
   "source": [
    "# Grouping\n",
    "\n",
    "In this section we will go over the split-apply-combine strategy and the `groupby()` function.\n",
    "\n",
    "\n",
    "By the end of this lesson students will be able to:\n",
    "\n",
    "- Understand and apply the Split-Apply-Combine strategy to analyze grouped data.\n",
    "- Use `groupby()` to split a `pandas.DataFrame` by one or more columns.\n",
    "- Calculate summary statistics for groups in a pandas.DataFrame.\n",
    "- Use method chaining for efficient data analysis."
   ]
  },
  {
   "cell_type": "code",
   "execution_count": 2,
   "id": "212190f8-447e-455f-a079-d17f2159e6c2",
   "metadata": {
    "tags": []
   },
   "outputs": [
    {
     "data": {
      "text/html": [
       "<div>\n",
       "<style scoped>\n",
       "    .dataframe tbody tr th:only-of-type {\n",
       "        vertical-align: middle;\n",
       "    }\n",
       "\n",
       "    .dataframe tbody tr th {\n",
       "        vertical-align: top;\n",
       "    }\n",
       "\n",
       "    .dataframe thead th {\n",
       "        text-align: right;\n",
       "    }\n",
       "</style>\n",
       "<table border=\"1\" class=\"dataframe\">\n",
       "  <thead>\n",
       "    <tr style=\"text-align: right;\">\n",
       "      <th></th>\n",
       "      <th>species</th>\n",
       "      <th>island</th>\n",
       "      <th>bill_length_mm</th>\n",
       "      <th>bill_depth_mm</th>\n",
       "      <th>flipper_length_mm</th>\n",
       "      <th>body_mass_g</th>\n",
       "      <th>sex</th>\n",
       "      <th>year</th>\n",
       "    </tr>\n",
       "  </thead>\n",
       "  <tbody>\n",
       "    <tr>\n",
       "      <th>0</th>\n",
       "      <td>Adelie</td>\n",
       "      <td>Torgersen</td>\n",
       "      <td>39.1</td>\n",
       "      <td>18.7</td>\n",
       "      <td>181.0</td>\n",
       "      <td>3750.0</td>\n",
       "      <td>male</td>\n",
       "      <td>2007</td>\n",
       "    </tr>\n",
       "    <tr>\n",
       "      <th>1</th>\n",
       "      <td>Adelie</td>\n",
       "      <td>Torgersen</td>\n",
       "      <td>39.5</td>\n",
       "      <td>17.4</td>\n",
       "      <td>186.0</td>\n",
       "      <td>3800.0</td>\n",
       "      <td>female</td>\n",
       "      <td>2007</td>\n",
       "    </tr>\n",
       "    <tr>\n",
       "      <th>2</th>\n",
       "      <td>Adelie</td>\n",
       "      <td>Torgersen</td>\n",
       "      <td>40.3</td>\n",
       "      <td>18.0</td>\n",
       "      <td>195.0</td>\n",
       "      <td>3250.0</td>\n",
       "      <td>female</td>\n",
       "      <td>2007</td>\n",
       "    </tr>\n",
       "    <tr>\n",
       "      <th>3</th>\n",
       "      <td>Adelie</td>\n",
       "      <td>Torgersen</td>\n",
       "      <td>NaN</td>\n",
       "      <td>NaN</td>\n",
       "      <td>NaN</td>\n",
       "      <td>NaN</td>\n",
       "      <td>NaN</td>\n",
       "      <td>2007</td>\n",
       "    </tr>\n",
       "    <tr>\n",
       "      <th>4</th>\n",
       "      <td>Adelie</td>\n",
       "      <td>Torgersen</td>\n",
       "      <td>36.7</td>\n",
       "      <td>19.3</td>\n",
       "      <td>193.0</td>\n",
       "      <td>3450.0</td>\n",
       "      <td>female</td>\n",
       "      <td>2007</td>\n",
       "    </tr>\n",
       "  </tbody>\n",
       "</table>\n",
       "</div>"
      ],
      "text/plain": [
       "  species     island  bill_length_mm  bill_depth_mm  flipper_length_mm  \\\n",
       "0  Adelie  Torgersen            39.1           18.7              181.0   \n",
       "1  Adelie  Torgersen            39.5           17.4              186.0   \n",
       "2  Adelie  Torgersen            40.3           18.0              195.0   \n",
       "3  Adelie  Torgersen             NaN            NaN                NaN   \n",
       "4  Adelie  Torgersen            36.7           19.3              193.0   \n",
       "\n",
       "   body_mass_g     sex  year  \n",
       "0       3750.0    male  2007  \n",
       "1       3800.0  female  2007  \n",
       "2       3250.0  female  2007  \n",
       "3          NaN     NaN  2007  \n",
       "4       3450.0  female  2007  "
      ]
     },
     "execution_count": 2,
     "metadata": {},
     "output_type": "execute_result"
    }
   ],
   "source": [
    "import numpy as np\n",
    "import pandas as pd\n",
    "\n",
    "# Load Palmer penguins data\n",
    "URL = 'https://raw.githubusercontent.com/allisonhorst/palmerpenguins/main/inst/extdata/penguins.csv'\n",
    "penguins = pd.read_csv(URL)\n",
    "\n",
    "penguins.head()"
   ]
  },
  {
   "cell_type": "markdown",
   "id": "4ac6a1f2-6672-4cb7-873c-7114d5381428",
   "metadata": {},
   "source": [
    "## Summary statistics\n",
    "\n",
    "It is easy to get summary statistics for each column in a pandas.DataFrame by using methods such as\n",
    "\n",
    "- `sum()`: sum values in each column,\n",
    "- `count()`: count non-NA values in each column,\n",
    "- `min() `and `max()`: get the minimum and maximum value in each column,\n",
    "- `mean()` and `median()`: get the mean and median value in each column,\n",
    "- `std()` and `var()`: get the standard deviation and variance in each column."
   ]
  },
  {
   "cell_type": "code",
   "execution_count": 3,
   "id": "7851251c-e98b-4112-bedc-cc368890ccad",
   "metadata": {
    "tags": []
   },
   "outputs": [
    {
     "data": {
      "text/plain": [
       "species              344\n",
       "island               344\n",
       "bill_length_mm       342\n",
       "bill_depth_mm        342\n",
       "flipper_length_mm    342\n",
       "body_mass_g          342\n",
       "sex                  333\n",
       "year                 344\n",
       "dtype: int64"
      ]
     },
     "execution_count": 3,
     "metadata": {},
     "output_type": "execute_result"
    }
   ],
   "source": [
    "# Get the number of non-NA values in each column \n",
    "penguins.count()"
   ]
  },
  {
   "cell_type": "code",
   "execution_count": 5,
   "id": "d180abc7-05f9-4c7d-b35f-dd8b40e060d4",
   "metadata": {
    "tags": []
   },
   "outputs": [
    {
     "data": {
      "text/plain": [
       "bill_length_mm         32.1\n",
       "bill_depth_mm          13.1\n",
       "flipper_length_mm     172.0\n",
       "body_mass_g          2700.0\n",
       "year                 2007.0\n",
       "dtype: float64"
      ]
     },
     "execution_count": 5,
     "metadata": {},
     "output_type": "execute_result"
    }
   ],
   "source": [
    "# Get minimum value in each column with numerical values\n",
    "penguins.select_dtypes('number').min()"
   ]
  },
  {
   "cell_type": "markdown",
   "id": "b2031496-6256-4e00-9b1f-ae3015f5f2ae",
   "metadata": {},
   "source": [
    "# Grouping\n",
    "\n",
    "Our penguins data is naturally split into different groups: there are three different species, two sexes, and three islands. Often, we want to calculate a certain statistic for each group. For example, suppose we want to calculate the average flipper length per species. How would we do this “by hand”?\n",
    "\n",
    "0. We start with our data and notice there are multiple species in the species column.\n",
    "\n",
    "1. We split our original table to group all observations from the same species together.\n",
    "\n",
    "2. We calculate the average flipper length for each of the groups we formed.\n",
    "\n",
    "3. Then we combine the values for average flipper length per species into a single table.\n",
    "\n",
    "This is known as the **Split-Apply-Combine strategy**. This strategy follows the three steps we explained above:\n",
    "\n",
    "1. **Split**: Split the data into logical groups (e.g. species, sex, island, etc.)\n",
    "\n",
    "2. **Apply**: Calculate some summary statistic on each group (e.g. average flipper length by species, number of individuals per island, body mass by sex, etc.)\n",
    "\n",
    "3. **Combine**: Combine the statistic calculated on each group back together.\n",
    "\n",
    "\n",
    "For a `pandas.DataFrame` or `pandas.Series`, we can use the `groupby()` method to split (i.e. group) the data into different categories.\n",
    "\n",
    "The general syntax for `groupby()` is:\n",
    "\n",
    "```\n",
    "df.groupby(columns_to_group_by).summary_method()\n",
    "```\n",
    "\n",
    "Most often, we will have that `columns_to_group_by` will be a single column name (a string) or a list of column names. The unique values of the column (or columns) will be used as the groups of the data frame.\n",
    "\n",
    "### Example\n",
    "\n",
    "If we don’t use `groupby()` and directly apply the `mean()` method to our flipper length column, we obtain the average of all the values in the column:"
   ]
  },
  {
   "cell_type": "code",
   "execution_count": 12,
   "id": "86e575a4-3aeb-4c6d-b477-82466aeaef4d",
   "metadata": {
    "tags": []
   },
   "outputs": [
    {
     "data": {
      "text/plain": [
       "200.91520467836258"
      ]
     },
     "execution_count": 12,
     "metadata": {},
     "output_type": "execute_result"
    }
   ],
   "source": [
    "penguins['flipper_length_mm'].mean()"
   ]
  },
  {
   "cell_type": "markdown",
   "id": "3f706c74-97ba-4b4c-8dc3-b430e993174f",
   "metadata": {},
   "source": [
    "### Check-in\n",
    "\n",
    "1. Use the `max()` method for `pandas.DataFrames` to calculate the maximum value of a penguin’s body mass by year and species.\n",
    "2. Use (1) to display the highest body masses per year and species as a bar plot in descending order."
   ]
  },
  {
   "cell_type": "code",
   "execution_count": 11,
   "id": "191fe284-6173-4fab-9e3b-00a5ccad20b6",
   "metadata": {
    "tags": []
   },
   "outputs": [
    {
     "data": {
      "text/plain": [
       "<AxesSubplot:title={'center':'Maximum penguin body mass per species, per year'}, ylabel='Body mass(g)'>"
      ]
     },
     "execution_count": 11,
     "metadata": {},
     "output_type": "execute_result"
    },
    {
     "data": {
      "image/png": "[encoded data removed]",
      "text/plain": [
       "<Figure size 640x480 with 1 Axes>"
      ]
     },
     "metadata": {},
     "output_type": "display_data"
    }
   ],
   "source": [
    "# 1 and 2\n",
    "\n",
    "(penguins.groupby(['year','species'])\n",
    "         .body_mass_g\n",
    "         .max()\n",
    "         .sort_values()\n",
    "         .plot(kind='barh',\n",
    "              title='Maximum penguin body mass per species, per year',\n",
    "              ylabel = ('Year, Species'),\n",
    "              xlabel = ('Body mass(g)'))\n",
    " \n",
    ")"
   ]
  }
 ],
 "metadata": {
  "kernelspec": {
   "display_name": "Python 3 (ipykernel)",
   "language": "python",
   "name": "python3"
  },
  "language_info": {
   "codemirror_mode": {
    "name": "ipython",
    "version": 3
   },
   "file_extension": ".py",
   "mimetype": "text/x-python",
   "name": "python",
   "nbconvert_exporter": "python",
   "pygments_lexer": "ipython3",
   "version": "3.7.13"
  }
 },
 "nbformat": 4,
 "nbformat_minor": 5
}
