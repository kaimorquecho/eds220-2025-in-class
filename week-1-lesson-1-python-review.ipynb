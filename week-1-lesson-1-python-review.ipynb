{
 "cells": [
  {
   "cell_type": "markdown",
   "id": "f28547d3-8593-493c-b62c-5c3e4a01a5e9",
   "metadata": {},
   "source": [
    "# Python Review"
   ]
  },
  {
   "cell_type": "markdown",
   "id": "00f651af-f29e-41c0-ad87-5199490feab7",
   "metadata": {},
   "source": [
    "## Libraries\n",
    "\n",
    "`library` is collection of code used to perform specific tasks in our programs\n",
    "- can be single file or several\n",
    "- `NumPy`--> core library for numerical computing in Python\n",
    "- will be using libraries that use `NumPy` arrays as their building blocks\n",
    "- `NumPy` objects are optimized for processing = fast computations and less memory used\n"
   ]
  },
  {
   "cell_type": "markdown",
   "id": "cfc31ac9-9853-4bdc-a037-48b16ab95d32",
   "metadata": {},
   "source": [
    "## Packages\n",
    "\n",
    "`package` is a specific way of organizing multiple files of code into a directory hierarchy, often within a large code library \n",
    "- 'library' and 'package' can be used interchangeably --> `NumPy` is both library and package\n"
   ]
  },
  {
   "cell_type": "code",
   "execution_count": 2,
   "id": "43f1cbf0-1a6a-49b9-a247-846e7f6e13c1",
   "metadata": {},
   "outputs": [],
   "source": [
    "import numpy as np # by importing, all objects and functions in numpy lib are made available "
   ]
  },
  {
   "cell_type": "markdown",
   "id": "e6b483f2-d9bb-4ff2-9e09-4ccbbd2881de",
   "metadata": {},
   "source": [
    "## Variables\n",
    "\n",
    "variables are names we assign to particular object in Python"
   ]
  },
  {
   "cell_type": "code",
   "execution_count": 4,
   "id": "8b5ccbc4-b3af-4c5f-ae52-b0631976727e",
   "metadata": {},
   "outputs": [],
   "source": [
    "# assign an array to a variable\n",
    "a = np.array([[1,1,2],[3,5,8]])"
   ]
  },
  {
   "cell_type": "markdown",
   "id": "53d77eb4-7b36-47dc-9f6c-bd8f916e3ea5",
   "metadata": {},
   "source": [
    "Can view variable by running cell with name or using `print` function "
   ]
  },
  {
   "cell_type": "code",
   "execution_count": 5,
   "id": "c557cb6b-1cf0-499b-b8ab-6f3ed126fb51",
   "metadata": {},
   "outputs": [
    {
     "data": {
      "text/plain": [
       "array([[1, 1, 2],\n",
       "       [3, 5, 8]])"
      ]
     },
     "execution_count": 5,
     "metadata": {},
     "output_type": "execute_result"
    }
   ],
   "source": [
    "# show the variable\n",
    "a"
   ]
  },
  {
   "cell_type": "code",
   "execution_count": 6,
   "id": "f42b305c-024e-4648-a53d-99fba8a621fb",
   "metadata": {},
   "outputs": [
    {
     "name": "stdout",
     "output_type": "stream",
     "text": [
      "[[1 1 2]\n",
      " [3 5 8]]\n"
     ]
    }
   ],
   "source": [
    "# print the variable\n",
    "print(a)"
   ]
  },
  {
   "cell_type": "markdown",
   "id": "4de03f0d-de5d-4af6-b43f-6f9aa7284b2d",
   "metadata": {},
   "source": [
    "## Objects\n",
    "\n",
    "`object` is a bundle of properties and actions about something specific \n",
    "For example, object could be a data frame with properties such as number of rows, names of cols, and date created, and actions like selecting one row or add new col.\n",
    "\n",
    "`variable` is name we give to specific `object`. same object can be referenced by different variables. Example: the sun (object) is called sol and soleil, but both refer to the same object."
   ]
  },
  {
   "cell_type": "markdown",
   "id": "7d0f0eb4-51e0-4107-9877-693112f46a28",
   "metadata": {},
   "source": [
    "## Types\n",
    "\n",
    "Every object in Python has a `type` (also called `class`), type = what kind of object.\n"
   ]
  },
  {
   "cell_type": "code",
   "execution_count": 7,
   "id": "836a1d34-064b-47e6-9c73-f6e502a8f46c",
   "metadata": {},
   "outputs": [
    {
     "name": "stdout",
     "output_type": "stream",
     "text": [
      "[[1 1 2]\n",
      " [3 5 8]]\n"
     ]
    },
    {
     "data": {
      "text/plain": [
       "numpy.ndarray"
      ]
     },
     "execution_count": 7,
     "metadata": {},
     "output_type": "execute_result"
    }
   ],
   "source": [
    "print(a) \n",
    "type(a)"
   ]
  },
  {
   "cell_type": "markdown",
   "id": "59d2f3f9-87c2-4a81-bd7f-2b99bb1b3056",
   "metadata": {},
   "source": [
    "The `numpy.ndarray` is the core object/data in the numpy package. can check data type of an entry int he array by indexing."
   ]
  },
  {
   "cell_type": "code",
   "execution_count": 9,
   "id": "5cdd377b-a5d1-4c5a-93dd-104d25c463ab",
   "metadata": {},
   "outputs": [
    {
     "name": "stdout",
     "output_type": "stream",
     "text": [
      "1\n"
     ]
    },
    {
     "data": {
      "text/plain": [
       "numpy.int64"
      ]
     },
     "execution_count": 9,
     "metadata": {},
     "output_type": "execute_result"
    }
   ],
   "source": [
    "print(a[0,0]) # coordinates to find value within thee array\n",
    "type(a[0,0]) # int64 is Python's integer type. "
   ]
  },
  {
   "cell_type": "markdown",
   "id": "72ff1e56-03ef-4407-9b46-33a37e445f45",
   "metadata": {},
   "source": [
    "## Functions\n",
    "\n",
    "`functions` take in a set of arguments separated by commas, and use those arguments to create an output.\n",
    "In class, we will use `argument` and `parameter` interchangeably but in reality they have slightly different meanings \n",
    "\n",
    "`parameter` is a variable in the function definition that accepts an argument passed to the function. it is a placeholder in the function that will receive the value of an argument when the function is called.\n",
    "\n",
    "For example:\n"
   ]
  },
  {
   "cell_type": "code",
   "execution_count": 13,
   "id": "394f3807-c378-4224-bcce-b7287355bd66",
   "metadata": {},
   "outputs": [],
   "source": [
    "def my_function(parameter1, parameter2) :\n",
    "    return parameter1 + parameter2"
   ]
  },
  {
   "cell_type": "code",
   "execution_count": 14,
   "id": "8c63f03c-86e3-4d62-9d7e-f8ce5975c08a",
   "metadata": {},
   "outputs": [],
   "source": [
    "result = my_function(5,10)"
   ]
  },
  {
   "cell_type": "markdown",
   "id": "03d0e02e-9e1a-4d78-84d6-b5f7ccdd105f",
   "metadata": {},
   "source": [
    "we can ask for info about what a function does by executing `?` followed by the function name:"
   ]
  },
  {
   "cell_type": "code",
   "execution_count": 15,
   "id": "a6b48726-a11c-4540-ba25-f8e2e5638075",
   "metadata": {},
   "outputs": [
    {
     "data": {
      "text/plain": [
       "\u001b[31mSignature:\u001b[39m print(*args, sep=\u001b[33m' '\u001b[39m, end=\u001b[33m'\\n'\u001b[39m, file=\u001b[38;5;28;01mNone\u001b[39;00m, flush=\u001b[38;5;28;01mFalse\u001b[39;00m)\n",
       "\u001b[31mDocstring:\u001b[39m\n",
       "Prints the values to a stream, or to sys.stdout by default.\n",
       "\n",
       "sep\n",
       "  string inserted between values, default a space.\n",
       "end\n",
       "  string appended after the last value, default a newline.\n",
       "file\n",
       "  a file-like object (stream); defaults to the current sys.stdout.\n",
       "flush\n",
       "  whether to forcibly flush the stream.\n",
       "\u001b[31mType:\u001b[39m      builtin_function_or_method"
      ]
     },
     "metadata": {},
     "output_type": "display_data"
    }
   ],
   "source": [
    "?print"
   ]
  },
  {
   "cell_type": "markdown",
   "id": "f5a4d72d-10bc-4bd5-a565-3288208eb3c4",
   "metadata": {},
   "source": [
    "we obtain a `docstring` --> a special type of comment that is used to document how a function (or class, or module) works. the first line in the docstring is telling us the function name followed by all of its arguments in parenthesis\n",
    "\n",
    "there are different types of arguments:\n",
    "`non-optional arguments`: arguments you need to specify for the function to do something \n",
    "`optional arguments`: arguments are pre-filled with default value by the function, but you can override them. optional arguments appear inside parenthesis () in the form of `optional_argument` =  `default_value`"
   ]
  },
  {
   "cell_type": "markdown",
   "id": "9fdbd689-8cdf-4293-b0f0-b4c7d203e842",
   "metadata": {},
   "source": [
    "#### Example"
   ]
  },
  {
   "cell_type": "markdown",
   "id": "b51db7e3-4bd0-48f8-aea1-0d5fa72424b9",
   "metadata": {},
   "source": [
    "`end` is a parameter in `print` with the default value = a new line. we can pass the value (: to this parameter so that it finishes the line with (: instead"
   ]
  },
  {
   "cell_type": "code",
   "execution_count": 3,
   "id": "3efb5326-9bdc-4bd5-8934-9b6ab72bd8b2",
   "metadata": {
    "tags": []
   },
   "outputs": [
    {
     "name": "stdout",
     "output_type": "stream",
     "text": [
      "changing the default argument of the print function (:"
     ]
    }
   ],
   "source": [
    "print('changing the default argument of the print function', end = ' (:')"
   ]
  },
  {
   "cell_type": "markdown",
   "id": "5cbd4944-3d1e-4534-8d50-429b41b88769",
   "metadata": {},
   "source": [
    "Notice that before we had always used `print` without specifying any value for the end parameter."
   ]
  },
  {
   "cell_type": "markdown",
   "id": "eb28f979-1d69-4d21-9a2b-2be62a7eceda",
   "metadata": {},
   "source": [
    "## Attributes and Methods\n",
    "\n",
    "An object in Python has attributes and methods.\n",
    "\n",
    "`method` is a procedure associated with an object so it is an action where the main ingredient is the object\n",
    "`attribute` is a property of the object, a piece of information\n",
    "\n",
    "- class = cat\n",
    "- attributes = color, name, age, weight\n",
    "- methods = meow(), nap(), chase_laser()\n",
    "\n",
    "More formally, a method is a function that acts on the object it is part of"
   ]
  },
  {
   "cell_type": "markdown",
   "id": "f1338c8a-614e-42e1-85b5-c7b9503cfb60",
   "metadata": {},
   "source": [
    "#### Examples of Attributes"
   ]
  },
  {
   "cell_type": "code",
   "execution_count": 16,
   "id": "e6ce8b5a-f2c6-4a68-8390-2b98091ffd56",
   "metadata": {},
   "outputs": [
    {
     "data": {
      "text/plain": [
       "array([[1, 2, 3],\n",
       "       [4, 5, 6],\n",
       "       [7, 8, 9]])"
      ]
     },
     "execution_count": 16,
     "metadata": {},
     "output_type": "execute_result"
    }
   ],
   "source": [
    "# NumPy arrays have many methods and attributes. \n",
    "\n",
    "# a 3x3 array\n",
    "var = np.array(([1,2,3],[4,5,6],[7,8,9]))\n",
    "\n",
    "var"
   ]
  },
  {
   "cell_type": "code",
   "execution_count": 17,
   "id": "02541ce1-2626-4043-80b3-11348760f42e",
   "metadata": {},
   "outputs": [
    {
     "name": "stdout",
     "output_type": "stream",
     "text": [
      "[[1 4 7]\n",
      " [2 5 8]\n",
      " [3 6 9]]\n",
      "<class 'numpy.ndarray'>\n"
     ]
    }
   ],
   "source": [
    "# T is an example of attribute, it returns the transpose of var\n",
    "\n",
    "print(var.T)\n",
    "print(type(var.T))"
   ]
  },
  {
   "cell_type": "code",
   "execution_count": 18,
   "id": "c9a7526c-7615-4ff2-98d1-abf6948a711b",
   "metadata": {},
   "outputs": [
    {
     "name": "stdout",
     "output_type": "stream",
     "text": [
      "(3, 3)\n",
      "<class 'tuple'>\n"
     ]
    }
   ],
   "source": [
    "# shape is another attribute that tells us the shape of the array\n",
    "\n",
    "print(var.shape)\n",
    "print(type(var.shape))"
   ]
  },
  {
   "cell_type": "code",
   "execution_count": 19,
   "id": "55c73417-b4a6-49ed-a9ef-053f77f1908a",
   "metadata": {},
   "outputs": [
    {
     "name": "stdout",
     "output_type": "stream",
     "text": [
      "2\n",
      "<class 'int'>\n"
     ]
    }
   ],
   "source": [
    "# ndim is attribute holding the number of array dimensions\n",
    "print(var.ndim)\n",
    "print(type(var.ndim))"
   ]
  },
  {
   "cell_type": "markdown",
   "id": "afa8cac9-53e8-4ec8-b2b1-23ab12345436",
   "metadata": {},
   "source": [
    "Notice that attributes can have many different data types. Above we saw a `tuple` and an `int` (two of the basic Python classes) and also a NumPy array as attributes of `var`"
   ]
  },
  {
   "cell_type": "markdown",
   "id": "f576294d-abe1-4320-8a32-d0d11769505f",
   "metadata": {},
   "source": [
    "#### Examples of Methods"
   ]
  },
  {
   "cell_type": "code",
   "execution_count": 20,
   "id": "75086b22-ac54-4188-b6d5-8f29bc6bc1ed",
   "metadata": {},
   "outputs": [
    {
     "data": {
      "text/plain": [
       "[[1, 2, 3], [4, 5, 6], [7, 8, 9]]"
      ]
     },
     "execution_count": 20,
     "metadata": {},
     "output_type": "execute_result"
    }
   ],
   "source": [
    "# tolist method returns array as nested list of scalars:\n",
    "var.tolist()"
   ]
  },
  {
   "cell_type": "code",
   "execution_count": 22,
   "id": "1fecdbaf-2a9d-4773-ba58-751edb16fabc",
   "metadata": {},
   "outputs": [
    {
     "data": {
      "text/plain": [
       "np.int64(1)"
      ]
     },
     "execution_count": 22,
     "metadata": {},
     "output_type": "execute_result"
    }
   ],
   "source": [
    "# the min method returns min value in the array along specified axis\n",
    "var.min(axis = 0)\n",
    "\n",
    "# we can also call the min method without parameters, meaning that the axis param is optional\n",
    "var.min()"
   ]
  },
  {
   "cell_type": "code",
   "execution_count": 23,
   "id": "1e9255dd-40e0-42e6-9b3d-52dc83e11b5c",
   "metadata": {},
   "outputs": [
    {
     "data": {
      "text/plain": [
       "builtin_function_or_method"
      ]
     },
     "execution_count": 23,
     "metadata": {},
     "output_type": "execute_result"
    }
   ],
   "source": [
    "# can confirm methods are functions associated to an object by checking type()\n",
    "type(var.tolist)\n"
   ]
  },
  {
   "cell_type": "code",
   "execution_count": 24,
   "id": "fd4c33e5-0e7b-458f-b5db-e77663112490",
   "metadata": {},
   "outputs": [
    {
     "data": {
      "text/plain": [
       "builtin_function_or_method"
      ]
     },
     "execution_count": 24,
     "metadata": {},
     "output_type": "execute_result"
    }
   ],
   "source": [
    "type(var.min)"
   ]
  }
 ],
 "metadata": {
  "kernelspec": {
   "display_name": "Python 3 (ipykernel)",
   "language": "python",
   "name": "python3"
  },
  "language_info": {
   "codemirror_mode": {
    "name": "ipython",
    "version": 3
   },
   "file_extension": ".py",
   "mimetype": "text/x-python",
   "name": "python",
   "nbconvert_exporter": "python",
   "pygments_lexer": "ipython3",
   "version": "3.7.13"
  }
 },
 "nbformat": 4,
 "nbformat_minor": 5
}
