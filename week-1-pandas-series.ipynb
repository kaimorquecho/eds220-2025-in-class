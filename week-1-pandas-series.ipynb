{
 "cells": [
  {
   "cell_type": "markdown",
   "id": "0dc3b051-e5c0-46a3-8de3-0d530fa28f79",
   "metadata": {
    "tags": []
   },
   "source": [
    "Pandas Series and Data Frames\n",
    "panda.Series and the pandas.DataFrame are two core objects in the pandas library\n",
    "\n",
    "pandas is a python package to wrangle and analyze tabular data. It is built on top of NumPy and has become the core tool for doing data analysis in Python\n",
    "\n",
    "standard abbreviation for pandas is pd"
   ]
  }
 ],
 "metadata": {
  "kernelspec": {
   "display_name": "Python 3 (ipykernel)",
   "language": "python",
   "name": "python3"
  },
  "language_info": {
   "codemirror_mode": {
    "name": "ipython",
    "version": 3
   },
   "file_extension": ".py",
   "mimetype": "text/x-python",
   "name": "python",
   "nbconvert_exporter": "python",
   "pygments_lexer": "ipython3",
   "version": "3.7.13"
  }
 },
 "nbformat": 4,
 "nbformat_minor": 5
}
