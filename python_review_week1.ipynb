{
 "cells": [
  {
   "cell_type": "code",
   "execution_count": 1,
   "id": "749b214d-7011-4b51-96a5-c33a8685545e",
   "metadata": {},
   "outputs": [],
   "source": [
    "import numpy as np"
   ]
  },
  {
   "cell_type": "code",
   "execution_count": 2,
   "id": "0c4bc186-217c-4809-8b6d-4ef859a5f396",
   "metadata": {},
   "outputs": [],
   "source": [
    "# Assign a small array to variable a\n",
    "a = np.array([[1,1,2],[3,5,8]])"
   ]
  },
  {
   "cell_type": "code",
   "execution_count": 3,
   "id": "74467ddf-600f-4921-8f4a-ef87a2ae71ff",
   "metadata": {},
   "outputs": [
    {
     "data": {
      "text/plain": [
       "array([[1, 1, 2],\n",
       "       [3, 5, 8]])"
      ]
     },
     "execution_count": 3,
     "metadata": {},
     "output_type": "execute_result"
    }
   ],
   "source": [
    "a"
   ]
  },
  {
   "cell_type": "markdown",
   "id": "93134a48-486f-49f5-8743-6a5bb198a870",
   "metadata": {},
   "source": [
    "## Types\n",
    "Every object in python has a **type**, the type tells us what kind of object it is \n",
    "Can also call the type of an object, the **class** of an object "
   ]
  },
  {
   "cell_type": "code",
   "execution_count": 4,
   "id": "5470c226-00c9-42b9-a33d-57b4a35cd020",
   "metadata": {},
   "outputs": [
    {
     "name": "stdout",
     "output_type": "stream",
     "text": [
      "[[1 1 2]\n",
      " [3 5 8]]\n"
     ]
    },
    {
     "data": {
      "text/plain": [
       "numpy.ndarray"
      ]
     },
     "execution_count": 4,
     "metadata": {},
     "output_type": "execute_result"
    }
   ],
   "source": [
    "print(a)\n",
    "# check the type/class of a variable/object by using `type` function\n",
    "type(a)"
   ]
  },
  {
   "cell_type": "code",
   "execution_count": 5,
   "id": "e30795d6-66a8-4c7a-a0f3-f1372c39971f",
   "metadata": {},
   "outputs": [
    {
     "name": "stdout",
     "output_type": "stream",
     "text": [
      "1\n"
     ]
    },
    {
     "data": {
      "text/plain": [
       "numpy.int64"
      ]
     },
     "execution_count": 5,
     "metadata": {},
     "output_type": "execute_result"
    }
   ],
   "source": [
    "print(a[0,0])\n",
    "\n",
    "# check the type of an entry on the array by indexing \n",
    "type(a[0,0])\n"
   ]
  },
  {
   "cell_type": "markdown",
   "id": "9ad33c45-87d9-4499-a19a-10daed2e24bf",
   "metadata": {},
   "source": [
    "Notice that `type(a[0,0])` is `numpy.int64` and not just the standard python integer type. It is telling us that 1 is an integer stored as a 64-bit number. It is a smaller integer type that saves memory"
   ]
  },
  {
   "cell_type": "code",
   "execution_count": 6,
   "id": "e4cfde2a-4808-44ee-9e08-f70e945a7b39",
   "metadata": {
    "tags": []
   },
   "outputs": [
    {
     "name": "stdout",
     "output_type": "stream",
     "text": [
      "5\n"
     ]
    }
   ],
   "source": [
    "print(a[1,1])"
   ]
  },
  {
   "cell_type": "markdown",
   "id": "8f1160d3-9091-481c-a4c4-56985507b73d",
   "metadata": {},
   "source": [
    "`print` was our first example of a Python function. Functions take in a set of arguments, separated by commas, and use those arguments to create an output. There are several built-in funcions in Python, most of them are for interacting with the Python basic data types such as int (integers), float (decimal numbers), str (strings), and bool (boolean values)."
   ]
  },
  {
   "cell_type": "code",
   "execution_count": 7,
   "id": "af55c642-70a4-47ac-938f-85d78afaf433",
   "metadata": {
    "tags": []
   },
   "outputs": [
    {
     "data": {
      "text/plain": [
       "\u001b[0;31mDocstring:\u001b[0m\n",
       "print(value, ..., sep=' ', end='\\n', file=sys.stdout, flush=False)\n",
       "\n",
       "Prints the values to a stream, or to sys.stdout by default.\n",
       "Optional keyword arguments:\n",
       "file:  a file-like object (stream); defaults to the current sys.stdout.\n",
       "sep:   string inserted between values, default a space.\n",
       "end:   string appended after the last value, default a newline.\n",
       "flush: whether to forcibly flush the stream.\n",
       "\u001b[0;31mType:\u001b[0m      builtin_function_or_method\n"
      ]
     },
     "metadata": {},
     "output_type": "display_data"
    }
   ],
   "source": [
    "?print"
   ]
  },
  {
   "cell_type": "markdown",
   "id": "81f71976-f6c0-4e83-9f0e-b8fd3473d771",
   "metadata": {},
   "source": [
    "What we obtain is a docstring, a special type of comment that is used to document how a function (or class, or module) works. The first line in the docstring is telling us the function name followed by all of its arguments in parentheses. Then there is a short description of what the function does. And finally a list of the arguments and a brief explanation about each of them.\n",
    "\n",
    "You can see there are different types of arguments inside the parenthesis. Roughly speaking, a function has two types of arguments:\n",
    "\n",
    "non-optional arguments: arguments you need to specify for the function to do something, and\n",
    "\n",
    "optional arguments: arguments that are pre-filled with a default value by the function, but you can override them. Optional arguments appear inside the parenthesis () in the form optional_argument = default_value.\n"
   ]
  },
  {
   "cell_type": "markdown",
   "id": "0ec88da4-f8b0-4417-ad05-e3665855ff6b",
   "metadata": {},
   "source": [
    "end is a parameter in print with the default value a new line. We can pass the value ^_^ to this parameter so that finishes the line with ^_^ instead:"
   ]
  },
  {
   "cell_type": "code",
   "execution_count": 8,
   "id": "5ffd3eef-4e77-4b56-928f-71278ddb1c4c",
   "metadata": {
    "tags": []
   },
   "outputs": [
    {
     "name": "stdout",
     "output_type": "stream",
     "text": [
      "changing the default end argument of the print function ^_^"
     ]
    }
   ],
   "source": [
    "print('changing the default end argument of the print function', end=' ^_^')"
   ]
  },
  {
   "cell_type": "markdown",
   "id": "717d9b9f-c0f2-4433-8220-f32f69438ce2",
   "metadata": {},
   "source": [
    "## Attributes and methods \n",
    "\n",
    "An object in python has attributes and methods. \n",
    "\n",
    "- **attribute** is a property of the object, some piece of info about it \n",
    "- **method** is a procedure associated with an object, so it is an action where the main ingredient is the object\n",
    "\n",
    "### Check-in \n",
    "\n",
    "fish attributes: \n",
    "- length, color, species\n",
    "- die(), bite(), swim()\n",
    "\n",
    "**Examples**\n",
    "Attributes for `numpy.arrays`\n",
    "\n",
    "We can access a variable's attributes and methods by adding a period `.` at the end of the variable's name\n",
    "\n",
    "`varible.method` or `variable.attribute`"
   ]
  },
  {
   "cell_type": "code",
   "execution_count": 10,
   "id": "a89771da-00ad-42da-8fc3-44bd504455e2",
   "metadata": {
    "tags": []
   },
   "outputs": [
    {
     "data": {
      "text/plain": [
       "(2, 3)"
      ]
     },
     "execution_count": 10,
     "metadata": {},
     "output_type": "execute_result"
    }
   ],
   "source": [
    "a.shape"
   ]
  },
  {
   "cell_type": "code",
   "execution_count": 12,
   "id": "ec0c91fb-63c6-415d-b08f-475e4d2b8050",
   "metadata": {
    "tags": []
   },
   "outputs": [
    {
     "data": {
      "text/plain": [
       "tuple"
      ]
     },
     "execution_count": 12,
     "metadata": {},
     "output_type": "execute_result"
    }
   ],
   "source": [
    "type(a.shape) # example that attribute 'shape' hasits own types"
   ]
  },
  {
   "cell_type": "code",
   "execution_count": 14,
   "id": "813fd2c3-6632-4c16-b336-7c9e2182a1c0",
   "metadata": {
    "tags": []
   },
   "outputs": [
    {
     "data": {
      "text/plain": [
       "array([1, 1, 2])"
      ]
     },
     "execution_count": 14,
     "metadata": {},
     "output_type": "execute_result"
    }
   ],
   "source": [
    "# Methods examples\n",
    "# min() returns the minimum value along specified axis \n",
    "a.min(axis=0)"
   ]
  },
  {
   "cell_type": "markdown",
   "id": "3a99fbfa-bda3-4ba1-8857-44a7e2abca58",
   "metadata": {
    "tags": []
   },
   "source": [
    "# Check-in\n",
    "\n",
    "We can also call the min method without any parameters:"
   ]
  },
  {
   "cell_type": "code",
   "execution_count": 17,
   "id": "896c2ed5-0b76-4974-b211-0788999f0911",
   "metadata": {
    "tags": []
   },
   "outputs": [
    {
     "data": {
      "text/plain": [
       "1"
      ]
     },
     "execution_count": 17,
     "metadata": {},
     "output_type": "execute_result"
    }
   ],
   "source": [
    "a.min() # we are able to run method with and without parameters so the parameters in this method are optional"
   ]
  },
  {
   "cell_type": "markdown",
   "id": "22f35f14-cb22-44fd-81bb-6f8a34700a8c",
   "metadata": {},
   "source": [
    "Remember: methods are functions associated with an object"
   ]
  },
  {
   "cell_type": "code",
   "execution_count": 18,
   "id": "023609c3-0ab8-477a-bdfd-485bfde5ac7d",
   "metadata": {
    "tags": []
   },
   "outputs": [
    {
     "data": {
      "text/plain": [
       "builtin_function_or_method"
      ]
     },
     "execution_count": 18,
     "metadata": {},
     "output_type": "execute_result"
    }
   ],
   "source": [
    "type(a.min)"
   ]
  },
  {
   "cell_type": "markdown",
   "id": "df7ecd9a-8413-4fa8-8e62-b71c6e98957e",
   "metadata": {},
   "source": [
    "## Exercise\n",
    "\n",
    "1. Read the `print` function help. What is the **type of the argument `sep`? Is this optional or non-optional argument? why?\n",
    "\n",
    "2.  Create two new variables, one with integer value 77 and another with the string 99\n",
    "\n",
    "3. Use your variables to print `77%99%77` by changing value of one of optional parameters in `print`"
   ]
  },
  {
   "cell_type": "code",
   "execution_count": 28,
   "id": "ea8824f6-4f58-4b76-8877-4b2b516bba7f",
   "metadata": {
    "tags": []
   },
   "outputs": [
    {
     "data": {
      "text/plain": [
       "\u001b[0;31mDocstring:\u001b[0m\n",
       "print(value, ..., sep=' ', end='\\n', file=sys.stdout, flush=False)\n",
       "\n",
       "Prints the values to a stream, or to sys.stdout by default.\n",
       "Optional keyword arguments:\n",
       "file:  a file-like object (stream); defaults to the current sys.stdout.\n",
       "sep:   string inserted between values, default a space.\n",
       "end:   string appended after the last value, default a newline.\n",
       "flush: whether to forcibly flush the stream.\n",
       "\u001b[0;31mType:\u001b[0m      builtin_function_or_method\n"
      ]
     },
     "metadata": {},
     "output_type": "display_data"
    },
    {
     "name": "stdout",
     "output_type": "stream",
     "text": [
      "77%99%77\n"
     ]
    }
   ],
   "source": [
    "?print \n",
    "\n",
    "# sep is  a optional parameter\n",
    "\n",
    "cat = 77\n",
    "rat = '99' \n",
    "\n",
    "print(cat,rat,cat, sep = '%') # the parameter type of 'sep' is string\n",
    "\n"
   ]
  },
  {
   "cell_type": "code",
   "execution_count": null,
   "id": "dea429c3-a29a-4581-8f62-425c84dcca0c",
   "metadata": {},
   "outputs": [],
   "source": []
  }
 ],
 "metadata": {
  "kernelspec": {
   "display_name": "Python 3 (ipykernel)",
   "language": "python",
   "name": "python3"
  },
  "language_info": {
   "codemirror_mode": {
    "name": "ipython",
    "version": 3
   },
   "file_extension": ".py",
   "mimetype": "text/x-python",
   "name": "python",
   "nbconvert_exporter": "python",
   "pygments_lexer": "ipython3",
   "version": "3.7.13"
  }
 },
 "nbformat": 4,
 "nbformat_minor": 5
}
